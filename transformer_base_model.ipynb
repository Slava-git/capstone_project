{
  "metadata": {
    "kernelspec": {
      "display_name": "Python 3",
      "name": "python3"
    },
    "language_info": {
      "name": "python",
      "version": "3.10.13",
      "mimetype": "text/x-python",
      "codemirror_mode": {
        "name": "ipython",
        "version": 3
      },
      "pygments_lexer": "ipython3",
      "nbconvert_exporter": "python",
      "file_extension": ".py"
    },
    "kaggle": {
      "accelerator": "gpu",
      "dataSources": [
        {
          "sourceId": 66631,
          "databundleVersionId": 8346466,
          "sourceType": "competition"
        },
        {
          "sourceId": 8844076,
          "sourceType": "datasetVersion",
          "datasetId": 5323031
        },
        {
          "sourceId": 71699,
          "sourceType": "modelInstanceVersion",
          "modelInstanceId": 59893
        }
      ],
      "dockerImageVersionId": 30733,
      "isInternetEnabled": false,
      "language": "python",
      "sourceType": "notebook",
      "isGpuEnabled": true
    },
    "colab": {
      "provenance": [],
      "machine_shape": "hm",
      "gpuType": "A100"
    },
    "accelerator": "GPU",
    "widgets": {
      "application/vnd.jupyter.widget-state+json": {
        "2cbee6bb7c484c0fa0ca4518b438f5fb": {
          "model_module": "@jupyter-widgets/controls",
          "model_name": "HBoxModel",
          "model_module_version": "1.5.0",
          "state": {
            "_dom_classes": [],
            "_model_module": "@jupyter-widgets/controls",
            "_model_module_version": "1.5.0",
            "_model_name": "HBoxModel",
            "_view_count": null,
            "_view_module": "@jupyter-widgets/controls",
            "_view_module_version": "1.5.0",
            "_view_name": "HBoxView",
            "box_style": "",
            "children": [
              "IPY_MODEL_7d7b754b0cdb47239b8fbd921cc8e616",
              "IPY_MODEL_624c21c3f5fa4135a48b5dd7edd5147b",
              "IPY_MODEL_c6f7ecdb1adf46698e3e6a6106f69b7b"
            ],
            "layout": "IPY_MODEL_dc472a6dda2d41e583eca4e7efcb66e2"
          }
        },
        "7d7b754b0cdb47239b8fbd921cc8e616": {
          "model_module": "@jupyter-widgets/controls",
          "model_name": "HTMLModel",
          "model_module_version": "1.5.0",
          "state": {
            "_dom_classes": [],
            "_model_module": "@jupyter-widgets/controls",
            "_model_module_version": "1.5.0",
            "_model_name": "HTMLModel",
            "_view_count": null,
            "_view_module": "@jupyter-widgets/controls",
            "_view_module_version": "1.5.0",
            "_view_name": "HTMLView",
            "description": "",
            "description_tooltip": null,
            "layout": "IPY_MODEL_611ea5d9fcad46948aec3bda6d598bd4",
            "placeholder": "​",
            "style": "IPY_MODEL_317a12f063e34a67ad33dd8a7197e2b3",
            "value": "tokenizer_config.json: 100%"
          }
        },
        "624c21c3f5fa4135a48b5dd7edd5147b": {
          "model_module": "@jupyter-widgets/controls",
          "model_name": "FloatProgressModel",
          "model_module_version": "1.5.0",
          "state": {
            "_dom_classes": [],
            "_model_module": "@jupyter-widgets/controls",
            "_model_module_version": "1.5.0",
            "_model_name": "FloatProgressModel",
            "_view_count": null,
            "_view_module": "@jupyter-widgets/controls",
            "_view_module_version": "1.5.0",
            "_view_name": "ProgressView",
            "bar_style": "success",
            "description": "",
            "description_tooltip": null,
            "layout": "IPY_MODEL_e65f610aaaa942328f34e5920aa217e1",
            "max": 52,
            "min": 0,
            "orientation": "horizontal",
            "style": "IPY_MODEL_41b69cac0b374cab81807123b3c6bd67",
            "value": 52
          }
        },
        "c6f7ecdb1adf46698e3e6a6106f69b7b": {
          "model_module": "@jupyter-widgets/controls",
          "model_name": "HTMLModel",
          "model_module_version": "1.5.0",
          "state": {
            "_dom_classes": [],
            "_model_module": "@jupyter-widgets/controls",
            "_model_module_version": "1.5.0",
            "_model_name": "HTMLModel",
            "_view_count": null,
            "_view_module": "@jupyter-widgets/controls",
            "_view_module_version": "1.5.0",
            "_view_name": "HTMLView",
            "description": "",
            "description_tooltip": null,
            "layout": "IPY_MODEL_891cdef1401f41edb7f15cce4d9db172",
            "placeholder": "​",
            "style": "IPY_MODEL_29235c5b85f64a3dac8359523858d437",
            "value": " 52.0/52.0 [00:00&lt;00:00, 3.73kB/s]"
          }
        },
        "dc472a6dda2d41e583eca4e7efcb66e2": {
          "model_module": "@jupyter-widgets/base",
          "model_name": "LayoutModel",
          "model_module_version": "1.2.0",
          "state": {
            "_model_module": "@jupyter-widgets/base",
            "_model_module_version": "1.2.0",
            "_model_name": "LayoutModel",
            "_view_count": null,
            "_view_module": "@jupyter-widgets/base",
            "_view_module_version": "1.2.0",
            "_view_name": "LayoutView",
            "align_content": null,
            "align_items": null,
            "align_self": null,
            "border": null,
            "bottom": null,
            "display": null,
            "flex": null,
            "flex_flow": null,
            "grid_area": null,
            "grid_auto_columns": null,
            "grid_auto_flow": null,
            "grid_auto_rows": null,
            "grid_column": null,
            "grid_gap": null,
            "grid_row": null,
            "grid_template_areas": null,
            "grid_template_columns": null,
            "grid_template_rows": null,
            "height": null,
            "justify_content": null,
            "justify_items": null,
            "left": null,
            "margin": null,
            "max_height": null,
            "max_width": null,
            "min_height": null,
            "min_width": null,
            "object_fit": null,
            "object_position": null,
            "order": null,
            "overflow": null,
            "overflow_x": null,
            "overflow_y": null,
            "padding": null,
            "right": null,
            "top": null,
            "visibility": null,
            "width": null
          }
        },
        "611ea5d9fcad46948aec3bda6d598bd4": {
          "model_module": "@jupyter-widgets/base",
          "model_name": "LayoutModel",
          "model_module_version": "1.2.0",
          "state": {
            "_model_module": "@jupyter-widgets/base",
            "_model_module_version": "1.2.0",
            "_model_name": "LayoutModel",
            "_view_count": null,
            "_view_module": "@jupyter-widgets/base",
            "_view_module_version": "1.2.0",
            "_view_name": "LayoutView",
            "align_content": null,
            "align_items": null,
            "align_self": null,
            "border": null,
            "bottom": null,
            "display": null,
            "flex": null,
            "flex_flow": null,
            "grid_area": null,
            "grid_auto_columns": null,
            "grid_auto_flow": null,
            "grid_auto_rows": null,
            "grid_column": null,
            "grid_gap": null,
            "grid_row": null,
            "grid_template_areas": null,
            "grid_template_columns": null,
            "grid_template_rows": null,
            "height": null,
            "justify_content": null,
            "justify_items": null,
            "left": null,
            "margin": null,
            "max_height": null,
            "max_width": null,
            "min_height": null,
            "min_width": null,
            "object_fit": null,
            "object_position": null,
            "order": null,
            "overflow": null,
            "overflow_x": null,
            "overflow_y": null,
            "padding": null,
            "right": null,
            "top": null,
            "visibility": null,
            "width": null
          }
        },
        "317a12f063e34a67ad33dd8a7197e2b3": {
          "model_module": "@jupyter-widgets/controls",
          "model_name": "DescriptionStyleModel",
          "model_module_version": "1.5.0",
          "state": {
            "_model_module": "@jupyter-widgets/controls",
            "_model_module_version": "1.5.0",
            "_model_name": "DescriptionStyleModel",
            "_view_count": null,
            "_view_module": "@jupyter-widgets/base",
            "_view_module_version": "1.2.0",
            "_view_name": "StyleView",
            "description_width": ""
          }
        },
        "e65f610aaaa942328f34e5920aa217e1": {
          "model_module": "@jupyter-widgets/base",
          "model_name": "LayoutModel",
          "model_module_version": "1.2.0",
          "state": {
            "_model_module": "@jupyter-widgets/base",
            "_model_module_version": "1.2.0",
            "_model_name": "LayoutModel",
            "_view_count": null,
            "_view_module": "@jupyter-widgets/base",
            "_view_module_version": "1.2.0",
            "_view_name": "LayoutView",
            "align_content": null,
            "align_items": null,
            "align_self": null,
            "border": null,
            "bottom": null,
            "display": null,
            "flex": null,
            "flex_flow": null,
            "grid_area": null,
            "grid_auto_columns": null,
            "grid_auto_flow": null,
            "grid_auto_rows": null,
            "grid_column": null,
            "grid_gap": null,
            "grid_row": null,
            "grid_template_areas": null,
            "grid_template_columns": null,
            "grid_template_rows": null,
            "height": null,
            "justify_content": null,
            "justify_items": null,
            "left": null,
            "margin": null,
            "max_height": null,
            "max_width": null,
            "min_height": null,
            "min_width": null,
            "object_fit": null,
            "object_position": null,
            "order": null,
            "overflow": null,
            "overflow_x": null,
            "overflow_y": null,
            "padding": null,
            "right": null,
            "top": null,
            "visibility": null,
            "width": null
          }
        },
        "41b69cac0b374cab81807123b3c6bd67": {
          "model_module": "@jupyter-widgets/controls",
          "model_name": "ProgressStyleModel",
          "model_module_version": "1.5.0",
          "state": {
            "_model_module": "@jupyter-widgets/controls",
            "_model_module_version": "1.5.0",
            "_model_name": "ProgressStyleModel",
            "_view_count": null,
            "_view_module": "@jupyter-widgets/base",
            "_view_module_version": "1.2.0",
            "_view_name": "StyleView",
            "bar_color": null,
            "description_width": ""
          }
        },
        "891cdef1401f41edb7f15cce4d9db172": {
          "model_module": "@jupyter-widgets/base",
          "model_name": "LayoutModel",
          "model_module_version": "1.2.0",
          "state": {
            "_model_module": "@jupyter-widgets/base",
            "_model_module_version": "1.2.0",
            "_model_name": "LayoutModel",
            "_view_count": null,
            "_view_module": "@jupyter-widgets/base",
            "_view_module_version": "1.2.0",
            "_view_name": "LayoutView",
            "align_content": null,
            "align_items": null,
            "align_self": null,
            "border": null,
            "bottom": null,
            "display": null,
            "flex": null,
            "flex_flow": null,
            "grid_area": null,
            "grid_auto_columns": null,
            "grid_auto_flow": null,
            "grid_auto_rows": null,
            "grid_column": null,
            "grid_gap": null,
            "grid_row": null,
            "grid_template_areas": null,
            "grid_template_columns": null,
            "grid_template_rows": null,
            "height": null,
            "justify_content": null,
            "justify_items": null,
            "left": null,
            "margin": null,
            "max_height": null,
            "max_width": null,
            "min_height": null,
            "min_width": null,
            "object_fit": null,
            "object_position": null,
            "order": null,
            "overflow": null,
            "overflow_x": null,
            "overflow_y": null,
            "padding": null,
            "right": null,
            "top": null,
            "visibility": null,
            "width": null
          }
        },
        "29235c5b85f64a3dac8359523858d437": {
          "model_module": "@jupyter-widgets/controls",
          "model_name": "DescriptionStyleModel",
          "model_module_version": "1.5.0",
          "state": {
            "_model_module": "@jupyter-widgets/controls",
            "_model_module_version": "1.5.0",
            "_model_name": "DescriptionStyleModel",
            "_view_count": null,
            "_view_module": "@jupyter-widgets/base",
            "_view_module_version": "1.2.0",
            "_view_name": "StyleView",
            "description_width": ""
          }
        },
        "e06553323c3f494da9c7ff9c0ec1faff": {
          "model_module": "@jupyter-widgets/controls",
          "model_name": "HBoxModel",
          "model_module_version": "1.5.0",
          "state": {
            "_dom_classes": [],
            "_model_module": "@jupyter-widgets/controls",
            "_model_module_version": "1.5.0",
            "_model_name": "HBoxModel",
            "_view_count": null,
            "_view_module": "@jupyter-widgets/controls",
            "_view_module_version": "1.5.0",
            "_view_name": "HBoxView",
            "box_style": "",
            "children": [
              "IPY_MODEL_9d9f43cff946445b83f93cc2270e5fb6",
              "IPY_MODEL_620206e0f3e340e4b952666d7d435eb6",
              "IPY_MODEL_7c83ac130ec849b28f1fb83abd980d23"
            ],
            "layout": "IPY_MODEL_e1645615b9424e89ba88047706d8d8c2"
          }
        },
        "9d9f43cff946445b83f93cc2270e5fb6": {
          "model_module": "@jupyter-widgets/controls",
          "model_name": "HTMLModel",
          "model_module_version": "1.5.0",
          "state": {
            "_dom_classes": [],
            "_model_module": "@jupyter-widgets/controls",
            "_model_module_version": "1.5.0",
            "_model_name": "HTMLModel",
            "_view_count": null,
            "_view_module": "@jupyter-widgets/controls",
            "_view_module_version": "1.5.0",
            "_view_name": "HTMLView",
            "description": "",
            "description_tooltip": null,
            "layout": "IPY_MODEL_9fd66f3a95df421f824e45c04176cf7a",
            "placeholder": "​",
            "style": "IPY_MODEL_dbc577efe2524323b1dc6a87c587dc07",
            "value": "config.json: 100%"
          }
        },
        "620206e0f3e340e4b952666d7d435eb6": {
          "model_module": "@jupyter-widgets/controls",
          "model_name": "FloatProgressModel",
          "model_module_version": "1.5.0",
          "state": {
            "_dom_classes": [],
            "_model_module": "@jupyter-widgets/controls",
            "_model_module_version": "1.5.0",
            "_model_name": "FloatProgressModel",
            "_view_count": null,
            "_view_module": "@jupyter-widgets/controls",
            "_view_module_version": "1.5.0",
            "_view_name": "ProgressView",
            "bar_style": "success",
            "description": "",
            "description_tooltip": null,
            "layout": "IPY_MODEL_00217d833d8b4b1893b0537f89e96999",
            "max": 579,
            "min": 0,
            "orientation": "horizontal",
            "style": "IPY_MODEL_831a6181e9fb4abf91ea77a16a448f13",
            "value": 579
          }
        },
        "7c83ac130ec849b28f1fb83abd980d23": {
          "model_module": "@jupyter-widgets/controls",
          "model_name": "HTMLModel",
          "model_module_version": "1.5.0",
          "state": {
            "_dom_classes": [],
            "_model_module": "@jupyter-widgets/controls",
            "_model_module_version": "1.5.0",
            "_model_name": "HTMLModel",
            "_view_count": null,
            "_view_module": "@jupyter-widgets/controls",
            "_view_module_version": "1.5.0",
            "_view_name": "HTMLView",
            "description": "",
            "description_tooltip": null,
            "layout": "IPY_MODEL_e786737b86784e20af80e073a84f802a",
            "placeholder": "​",
            "style": "IPY_MODEL_d8db77a2d134447c80811f4b0b158582",
            "value": " 579/579 [00:00&lt;00:00, 50.4kB/s]"
          }
        },
        "e1645615b9424e89ba88047706d8d8c2": {
          "model_module": "@jupyter-widgets/base",
          "model_name": "LayoutModel",
          "model_module_version": "1.2.0",
          "state": {
            "_model_module": "@jupyter-widgets/base",
            "_model_module_version": "1.2.0",
            "_model_name": "LayoutModel",
            "_view_count": null,
            "_view_module": "@jupyter-widgets/base",
            "_view_module_version": "1.2.0",
            "_view_name": "LayoutView",
            "align_content": null,
            "align_items": null,
            "align_self": null,
            "border": null,
            "bottom": null,
            "display": null,
            "flex": null,
            "flex_flow": null,
            "grid_area": null,
            "grid_auto_columns": null,
            "grid_auto_flow": null,
            "grid_auto_rows": null,
            "grid_column": null,
            "grid_gap": null,
            "grid_row": null,
            "grid_template_areas": null,
            "grid_template_columns": null,
            "grid_template_rows": null,
            "height": null,
            "justify_content": null,
            "justify_items": null,
            "left": null,
            "margin": null,
            "max_height": null,
            "max_width": null,
            "min_height": null,
            "min_width": null,
            "object_fit": null,
            "object_position": null,
            "order": null,
            "overflow": null,
            "overflow_x": null,
            "overflow_y": null,
            "padding": null,
            "right": null,
            "top": null,
            "visibility": null,
            "width": null
          }
        },
        "9fd66f3a95df421f824e45c04176cf7a": {
          "model_module": "@jupyter-widgets/base",
          "model_name": "LayoutModel",
          "model_module_version": "1.2.0",
          "state": {
            "_model_module": "@jupyter-widgets/base",
            "_model_module_version": "1.2.0",
            "_model_name": "LayoutModel",
            "_view_count": null,
            "_view_module": "@jupyter-widgets/base",
            "_view_module_version": "1.2.0",
            "_view_name": "LayoutView",
            "align_content": null,
            "align_items": null,
            "align_self": null,
            "border": null,
            "bottom": null,
            "display": null,
            "flex": null,
            "flex_flow": null,
            "grid_area": null,
            "grid_auto_columns": null,
            "grid_auto_flow": null,
            "grid_auto_rows": null,
            "grid_column": null,
            "grid_gap": null,
            "grid_row": null,
            "grid_template_areas": null,
            "grid_template_columns": null,
            "grid_template_rows": null,
            "height": null,
            "justify_content": null,
            "justify_items": null,
            "left": null,
            "margin": null,
            "max_height": null,
            "max_width": null,
            "min_height": null,
            "min_width": null,
            "object_fit": null,
            "object_position": null,
            "order": null,
            "overflow": null,
            "overflow_x": null,
            "overflow_y": null,
            "padding": null,
            "right": null,
            "top": null,
            "visibility": null,
            "width": null
          }
        },
        "dbc577efe2524323b1dc6a87c587dc07": {
          "model_module": "@jupyter-widgets/controls",
          "model_name": "DescriptionStyleModel",
          "model_module_version": "1.5.0",
          "state": {
            "_model_module": "@jupyter-widgets/controls",
            "_model_module_version": "1.5.0",
            "_model_name": "DescriptionStyleModel",
            "_view_count": null,
            "_view_module": "@jupyter-widgets/base",
            "_view_module_version": "1.2.0",
            "_view_name": "StyleView",
            "description_width": ""
          }
        },
        "00217d833d8b4b1893b0537f89e96999": {
          "model_module": "@jupyter-widgets/base",
          "model_name": "LayoutModel",
          "model_module_version": "1.2.0",
          "state": {
            "_model_module": "@jupyter-widgets/base",
            "_model_module_version": "1.2.0",
            "_model_name": "LayoutModel",
            "_view_count": null,
            "_view_module": "@jupyter-widgets/base",
            "_view_module_version": "1.2.0",
            "_view_name": "LayoutView",
            "align_content": null,
            "align_items": null,
            "align_self": null,
            "border": null,
            "bottom": null,
            "display": null,
            "flex": null,
            "flex_flow": null,
            "grid_area": null,
            "grid_auto_columns": null,
            "grid_auto_flow": null,
            "grid_auto_rows": null,
            "grid_column": null,
            "grid_gap": null,
            "grid_row": null,
            "grid_template_areas": null,
            "grid_template_columns": null,
            "grid_template_rows": null,
            "height": null,
            "justify_content": null,
            "justify_items": null,
            "left": null,
            "margin": null,
            "max_height": null,
            "max_width": null,
            "min_height": null,
            "min_width": null,
            "object_fit": null,
            "object_position": null,
            "order": null,
            "overflow": null,
            "overflow_x": null,
            "overflow_y": null,
            "padding": null,
            "right": null,
            "top": null,
            "visibility": null,
            "width": null
          }
        },
        "831a6181e9fb4abf91ea77a16a448f13": {
          "model_module": "@jupyter-widgets/controls",
          "model_name": "ProgressStyleModel",
          "model_module_version": "1.5.0",
          "state": {
            "_model_module": "@jupyter-widgets/controls",
            "_model_module_version": "1.5.0",
            "_model_name": "ProgressStyleModel",
            "_view_count": null,
            "_view_module": "@jupyter-widgets/base",
            "_view_module_version": "1.2.0",
            "_view_name": "StyleView",
            "bar_color": null,
            "description_width": ""
          }
        },
        "e786737b86784e20af80e073a84f802a": {
          "model_module": "@jupyter-widgets/base",
          "model_name": "LayoutModel",
          "model_module_version": "1.2.0",
          "state": {
            "_model_module": "@jupyter-widgets/base",
            "_model_module_version": "1.2.0",
            "_model_name": "LayoutModel",
            "_view_count": null,
            "_view_module": "@jupyter-widgets/base",
            "_view_module_version": "1.2.0",
            "_view_name": "LayoutView",
            "align_content": null,
            "align_items": null,
            "align_self": null,
            "border": null,
            "bottom": null,
            "display": null,
            "flex": null,
            "flex_flow": null,
            "grid_area": null,
            "grid_auto_columns": null,
            "grid_auto_flow": null,
            "grid_auto_rows": null,
            "grid_column": null,
            "grid_gap": null,
            "grid_row": null,
            "grid_template_areas": null,
            "grid_template_columns": null,
            "grid_template_rows": null,
            "height": null,
            "justify_content": null,
            "justify_items": null,
            "left": null,
            "margin": null,
            "max_height": null,
            "max_width": null,
            "min_height": null,
            "min_width": null,
            "object_fit": null,
            "object_position": null,
            "order": null,
            "overflow": null,
            "overflow_x": null,
            "overflow_y": null,
            "padding": null,
            "right": null,
            "top": null,
            "visibility": null,
            "width": null
          }
        },
        "d8db77a2d134447c80811f4b0b158582": {
          "model_module": "@jupyter-widgets/controls",
          "model_name": "DescriptionStyleModel",
          "model_module_version": "1.5.0",
          "state": {
            "_model_module": "@jupyter-widgets/controls",
            "_model_module_version": "1.5.0",
            "_model_name": "DescriptionStyleModel",
            "_view_count": null,
            "_view_module": "@jupyter-widgets/base",
            "_view_module_version": "1.2.0",
            "_view_name": "StyleView",
            "description_width": ""
          }
        },
        "2e143b3790ea429db122e21364edb9dc": {
          "model_module": "@jupyter-widgets/controls",
          "model_name": "HBoxModel",
          "model_module_version": "1.5.0",
          "state": {
            "_dom_classes": [],
            "_model_module": "@jupyter-widgets/controls",
            "_model_module_version": "1.5.0",
            "_model_name": "HBoxModel",
            "_view_count": null,
            "_view_module": "@jupyter-widgets/controls",
            "_view_module_version": "1.5.0",
            "_view_name": "HBoxView",
            "box_style": "",
            "children": [
              "IPY_MODEL_6feb270aa2dd45dda50952d21fdec244",
              "IPY_MODEL_53b5d5ab7eec439cafd039911aa9daeb",
              "IPY_MODEL_1dee5031c35d4922a6852956ed40f3d7"
            ],
            "layout": "IPY_MODEL_3087510549524e2ead3e9fe2321cb399"
          }
        },
        "6feb270aa2dd45dda50952d21fdec244": {
          "model_module": "@jupyter-widgets/controls",
          "model_name": "HTMLModel",
          "model_module_version": "1.5.0",
          "state": {
            "_dom_classes": [],
            "_model_module": "@jupyter-widgets/controls",
            "_model_module_version": "1.5.0",
            "_model_name": "HTMLModel",
            "_view_count": null,
            "_view_module": "@jupyter-widgets/controls",
            "_view_module_version": "1.5.0",
            "_view_name": "HTMLView",
            "description": "",
            "description_tooltip": null,
            "layout": "IPY_MODEL_aa70ec2c1dd049598066e2ce8d7283d1",
            "placeholder": "​",
            "style": "IPY_MODEL_2b9feb3167ef4f9d958ee7e375599d14",
            "value": "spm.model: 100%"
          }
        },
        "53b5d5ab7eec439cafd039911aa9daeb": {
          "model_module": "@jupyter-widgets/controls",
          "model_name": "FloatProgressModel",
          "model_module_version": "1.5.0",
          "state": {
            "_dom_classes": [],
            "_model_module": "@jupyter-widgets/controls",
            "_model_module_version": "1.5.0",
            "_model_name": "FloatProgressModel",
            "_view_count": null,
            "_view_module": "@jupyter-widgets/controls",
            "_view_module_version": "1.5.0",
            "_view_name": "ProgressView",
            "bar_style": "success",
            "description": "",
            "description_tooltip": null,
            "layout": "IPY_MODEL_453918b0faa54c699515a16d68d2fbd0",
            "max": 2464616,
            "min": 0,
            "orientation": "horizontal",
            "style": "IPY_MODEL_ca6ef87072f34ffbbf3a52bba28cd786",
            "value": 2464616
          }
        },
        "1dee5031c35d4922a6852956ed40f3d7": {
          "model_module": "@jupyter-widgets/controls",
          "model_name": "HTMLModel",
          "model_module_version": "1.5.0",
          "state": {
            "_dom_classes": [],
            "_model_module": "@jupyter-widgets/controls",
            "_model_module_version": "1.5.0",
            "_model_name": "HTMLModel",
            "_view_count": null,
            "_view_module": "@jupyter-widgets/controls",
            "_view_module_version": "1.5.0",
            "_view_name": "HTMLView",
            "description": "",
            "description_tooltip": null,
            "layout": "IPY_MODEL_ea8b59867e434ba5af49d28f0f21f3f2",
            "placeholder": "​",
            "style": "IPY_MODEL_89692ce0fdd047e88a371097ccab6cfd",
            "value": " 2.46M/2.46M [00:00&lt;00:00, 59.0MB/s]"
          }
        },
        "3087510549524e2ead3e9fe2321cb399": {
          "model_module": "@jupyter-widgets/base",
          "model_name": "LayoutModel",
          "model_module_version": "1.2.0",
          "state": {
            "_model_module": "@jupyter-widgets/base",
            "_model_module_version": "1.2.0",
            "_model_name": "LayoutModel",
            "_view_count": null,
            "_view_module": "@jupyter-widgets/base",
            "_view_module_version": "1.2.0",
            "_view_name": "LayoutView",
            "align_content": null,
            "align_items": null,
            "align_self": null,
            "border": null,
            "bottom": null,
            "display": null,
            "flex": null,
            "flex_flow": null,
            "grid_area": null,
            "grid_auto_columns": null,
            "grid_auto_flow": null,
            "grid_auto_rows": null,
            "grid_column": null,
            "grid_gap": null,
            "grid_row": null,
            "grid_template_areas": null,
            "grid_template_columns": null,
            "grid_template_rows": null,
            "height": null,
            "justify_content": null,
            "justify_items": null,
            "left": null,
            "margin": null,
            "max_height": null,
            "max_width": null,
            "min_height": null,
            "min_width": null,
            "object_fit": null,
            "object_position": null,
            "order": null,
            "overflow": null,
            "overflow_x": null,
            "overflow_y": null,
            "padding": null,
            "right": null,
            "top": null,
            "visibility": null,
            "width": null
          }
        },
        "aa70ec2c1dd049598066e2ce8d7283d1": {
          "model_module": "@jupyter-widgets/base",
          "model_name": "LayoutModel",
          "model_module_version": "1.2.0",
          "state": {
            "_model_module": "@jupyter-widgets/base",
            "_model_module_version": "1.2.0",
            "_model_name": "LayoutModel",
            "_view_count": null,
            "_view_module": "@jupyter-widgets/base",
            "_view_module_version": "1.2.0",
            "_view_name": "LayoutView",
            "align_content": null,
            "align_items": null,
            "align_self": null,
            "border": null,
            "bottom": null,
            "display": null,
            "flex": null,
            "flex_flow": null,
            "grid_area": null,
            "grid_auto_columns": null,
            "grid_auto_flow": null,
            "grid_auto_rows": null,
            "grid_column": null,
            "grid_gap": null,
            "grid_row": null,
            "grid_template_areas": null,
            "grid_template_columns": null,
            "grid_template_rows": null,
            "height": null,
            "justify_content": null,
            "justify_items": null,
            "left": null,
            "margin": null,
            "max_height": null,
            "max_width": null,
            "min_height": null,
            "min_width": null,
            "object_fit": null,
            "object_position": null,
            "order": null,
            "overflow": null,
            "overflow_x": null,
            "overflow_y": null,
            "padding": null,
            "right": null,
            "top": null,
            "visibility": null,
            "width": null
          }
        },
        "2b9feb3167ef4f9d958ee7e375599d14": {
          "model_module": "@jupyter-widgets/controls",
          "model_name": "DescriptionStyleModel",
          "model_module_version": "1.5.0",
          "state": {
            "_model_module": "@jupyter-widgets/controls",
            "_model_module_version": "1.5.0",
            "_model_name": "DescriptionStyleModel",
            "_view_count": null,
            "_view_module": "@jupyter-widgets/base",
            "_view_module_version": "1.2.0",
            "_view_name": "StyleView",
            "description_width": ""
          }
        },
        "453918b0faa54c699515a16d68d2fbd0": {
          "model_module": "@jupyter-widgets/base",
          "model_name": "LayoutModel",
          "model_module_version": "1.2.0",
          "state": {
            "_model_module": "@jupyter-widgets/base",
            "_model_module_version": "1.2.0",
            "_model_name": "LayoutModel",
            "_view_count": null,
            "_view_module": "@jupyter-widgets/base",
            "_view_module_version": "1.2.0",
            "_view_name": "LayoutView",
            "align_content": null,
            "align_items": null,
            "align_self": null,
            "border": null,
            "bottom": null,
            "display": null,
            "flex": null,
            "flex_flow": null,
            "grid_area": null,
            "grid_auto_columns": null,
            "grid_auto_flow": null,
            "grid_auto_rows": null,
            "grid_column": null,
            "grid_gap": null,
            "grid_row": null,
            "grid_template_areas": null,
            "grid_template_columns": null,
            "grid_template_rows": null,
            "height": null,
            "justify_content": null,
            "justify_items": null,
            "left": null,
            "margin": null,
            "max_height": null,
            "max_width": null,
            "min_height": null,
            "min_width": null,
            "object_fit": null,
            "object_position": null,
            "order": null,
            "overflow": null,
            "overflow_x": null,
            "overflow_y": null,
            "padding": null,
            "right": null,
            "top": null,
            "visibility": null,
            "width": null
          }
        },
        "ca6ef87072f34ffbbf3a52bba28cd786": {
          "model_module": "@jupyter-widgets/controls",
          "model_name": "ProgressStyleModel",
          "model_module_version": "1.5.0",
          "state": {
            "_model_module": "@jupyter-widgets/controls",
            "_model_module_version": "1.5.0",
            "_model_name": "ProgressStyleModel",
            "_view_count": null,
            "_view_module": "@jupyter-widgets/base",
            "_view_module_version": "1.2.0",
            "_view_name": "StyleView",
            "bar_color": null,
            "description_width": ""
          }
        },
        "ea8b59867e434ba5af49d28f0f21f3f2": {
          "model_module": "@jupyter-widgets/base",
          "model_name": "LayoutModel",
          "model_module_version": "1.2.0",
          "state": {
            "_model_module": "@jupyter-widgets/base",
            "_model_module_version": "1.2.0",
            "_model_name": "LayoutModel",
            "_view_count": null,
            "_view_module": "@jupyter-widgets/base",
            "_view_module_version": "1.2.0",
            "_view_name": "LayoutView",
            "align_content": null,
            "align_items": null,
            "align_self": null,
            "border": null,
            "bottom": null,
            "display": null,
            "flex": null,
            "flex_flow": null,
            "grid_area": null,
            "grid_auto_columns": null,
            "grid_auto_flow": null,
            "grid_auto_rows": null,
            "grid_column": null,
            "grid_gap": null,
            "grid_row": null,
            "grid_template_areas": null,
            "grid_template_columns": null,
            "grid_template_rows": null,
            "height": null,
            "justify_content": null,
            "justify_items": null,
            "left": null,
            "margin": null,
            "max_height": null,
            "max_width": null,
            "min_height": null,
            "min_width": null,
            "object_fit": null,
            "object_position": null,
            "order": null,
            "overflow": null,
            "overflow_x": null,
            "overflow_y": null,
            "padding": null,
            "right": null,
            "top": null,
            "visibility": null,
            "width": null
          }
        },
        "89692ce0fdd047e88a371097ccab6cfd": {
          "model_module": "@jupyter-widgets/controls",
          "model_name": "DescriptionStyleModel",
          "model_module_version": "1.5.0",
          "state": {
            "_model_module": "@jupyter-widgets/controls",
            "_model_module_version": "1.5.0",
            "_model_name": "DescriptionStyleModel",
            "_view_count": null,
            "_view_module": "@jupyter-widgets/base",
            "_view_module_version": "1.2.0",
            "_view_name": "StyleView",
            "description_width": ""
          }
        }
      }
    }
  },
  "nbformat_minor": 0,
  "nbformat": 4,
  "cells": [
    {
      "cell_type": "markdown",
      "source": [
        "# Import"
      ],
      "metadata": {
        "id": "mEEOmX7Zp3tV"
      }
    },
    {
      "cell_type": "code",
      "source": [
        "import numpy as np # linear algebra\n",
        "import pandas as pd # data processing, CSV file I/O (e.g. pd.read_csv)\n",
        "import os\n",
        "\n",
        "import ast\n",
        "import json\n",
        "from sklearn.model_selection import train_test_split\n",
        "\n",
        "import matplotlib.pyplot as plt"
      ],
      "metadata": {
        "_uuid": "8f2839f25d086af736a60e9eeb907d3b93b6e0e5",
        "_cell_guid": "b1076dfc-b9ad-4769-8c92-a6c4dae69d19",
        "execution": {
          "iopub.status.busy": "2024-07-03T14:20:26.538777Z",
          "iopub.execute_input": "2024-07-03T14:20:26.539146Z",
          "iopub.status.idle": "2024-07-03T14:20:27.509624Z",
          "shell.execute_reply.started": "2024-07-03T14:20:26.539115Z",
          "shell.execute_reply": "2024-07-03T14:20:27.508847Z"
        },
        "trusted": true,
        "id": "UuP1YKa5_TPQ"
      },
      "execution_count": 3,
      "outputs": []
    },
    {
      "cell_type": "markdown",
      "source": [
        "# Load model"
      ],
      "metadata": {
        "id": "jjicnjm7p7pI"
      }
    },
    {
      "cell_type": "code",
      "source": [
        "from transformers import AutoModel\n",
        "\n",
        "model = AutoModel.from_pretrained(\"microsoft/deberta-v3-base\",  num_labels=3, return_dict=True)"
      ],
      "metadata": {
        "id": "WU0-XlljAAkP"
      },
      "execution_count": 30,
      "outputs": []
    },
    {
      "cell_type": "code",
      "source": [
        "model"
      ],
      "metadata": {
        "colab": {
          "base_uri": "https://localhost:8080/"
        },
        "id": "T_W9T0EhIULv",
        "outputId": "864a5769-d4ca-4b90-cb2e-57429e465e4c"
      },
      "execution_count": 31,
      "outputs": [
        {
          "output_type": "execute_result",
          "data": {
            "text/plain": [
              "DebertaV2Model(\n",
              "  (embeddings): DebertaV2Embeddings(\n",
              "    (word_embeddings): Embedding(128100, 768, padding_idx=0)\n",
              "    (LayerNorm): LayerNorm((768,), eps=1e-07, elementwise_affine=True)\n",
              "    (dropout): StableDropout()\n",
              "  )\n",
              "  (encoder): DebertaV2Encoder(\n",
              "    (layer): ModuleList(\n",
              "      (0-11): 12 x DebertaV2Layer(\n",
              "        (attention): DebertaV2Attention(\n",
              "          (self): DisentangledSelfAttention(\n",
              "            (query_proj): Linear(in_features=768, out_features=768, bias=True)\n",
              "            (key_proj): Linear(in_features=768, out_features=768, bias=True)\n",
              "            (value_proj): Linear(in_features=768, out_features=768, bias=True)\n",
              "            (pos_dropout): StableDropout()\n",
              "            (dropout): StableDropout()\n",
              "          )\n",
              "          (output): DebertaV2SelfOutput(\n",
              "            (dense): Linear(in_features=768, out_features=768, bias=True)\n",
              "            (LayerNorm): LayerNorm((768,), eps=1e-07, elementwise_affine=True)\n",
              "            (dropout): StableDropout()\n",
              "          )\n",
              "        )\n",
              "        (intermediate): DebertaV2Intermediate(\n",
              "          (dense): Linear(in_features=768, out_features=3072, bias=True)\n",
              "          (intermediate_act_fn): GELUActivation()\n",
              "        )\n",
              "        (output): DebertaV2Output(\n",
              "          (dense): Linear(in_features=3072, out_features=768, bias=True)\n",
              "          (LayerNorm): LayerNorm((768,), eps=1e-07, elementwise_affine=True)\n",
              "          (dropout): StableDropout()\n",
              "        )\n",
              "      )\n",
              "    )\n",
              "    (rel_embeddings): Embedding(512, 768)\n",
              "    (LayerNorm): LayerNorm((768,), eps=1e-07, elementwise_affine=True)\n",
              "  )\n",
              ")"
            ]
          },
          "metadata": {},
          "execution_count": 31
        }
      ]
    },
    {
      "cell_type": "code",
      "source": [
        "!nvidia-smi"
      ],
      "metadata": {
        "id": "falI5tVvAA0H"
      },
      "execution_count": null,
      "outputs": []
    },
    {
      "cell_type": "code",
      "source": [],
      "metadata": {
        "id": "ZgrmF1tY_2Da"
      },
      "execution_count": null,
      "outputs": []
    },
    {
      "cell_type": "code",
      "source": [
        "train_df = pd.read_csv('/content/drive/MyDrive/kaggle/lmsys-chatbot-arena/train.csv')\n",
        "test_df = pd.read_csv('/content/drive/MyDrive/kaggle/lmsys-chatbot-arena/test.csv')\n",
        "sample_submission_df = pd.read_csv('/content/drive/MyDrive/kaggle/lmsys-chatbot-arena/sample_submission.csv')"
      ],
      "metadata": {
        "execution": {
          "iopub.status.busy": "2024-07-03T14:20:28.598005Z",
          "iopub.execute_input": "2024-07-03T14:20:28.598532Z",
          "iopub.status.idle": "2024-07-03T14:20:31.869114Z",
          "shell.execute_reply.started": "2024-07-03T14:20:28.598499Z",
          "shell.execute_reply": "2024-07-03T14:20:31.868230Z"
        },
        "trusted": true,
        "id": "1AxUJXwW_TPS"
      },
      "execution_count": 4,
      "outputs": []
    },
    {
      "cell_type": "markdown",
      "source": [
        "# Data preprocessing"
      ],
      "metadata": {
        "id": "CNoInOUPp97k"
      }
    },
    {
      "cell_type": "code",
      "source": [
        "train_df['prompt'] = train_df['prompt'].apply(ast.literal_eval)\n",
        "\n",
        "test_df['prompt'] = test_df['prompt'].apply(ast.literal_eval)"
      ],
      "metadata": {
        "execution": {
          "iopub.status.busy": "2024-07-03T14:20:31.870610Z",
          "iopub.execute_input": "2024-07-03T14:20:31.870956Z",
          "iopub.status.idle": "2024-07-03T14:20:32.768194Z",
          "shell.execute_reply.started": "2024-07-03T14:20:31.870927Z",
          "shell.execute_reply": "2024-07-03T14:20:32.767178Z"
        },
        "trusted": true,
        "id": "3Pw_VN8J_TPS"
      },
      "execution_count": 5,
      "outputs": []
    },
    {
      "cell_type": "code",
      "source": [
        "train_df['response_a'] = train_df['response_a'].apply(lambda x: json.loads(x))\n",
        "\n",
        "train_df['response_b'] = train_df['response_b'].apply(lambda x: json.loads(x))\n",
        "\n",
        "test_df['response_a'] = test_df['response_a'].apply(lambda x: json.loads(x))\n",
        "\n",
        "test_df['response_b'] = test_df['response_b'].apply(lambda x: json.loads(x))"
      ],
      "metadata": {
        "execution": {
          "iopub.status.busy": "2024-07-03T14:20:32.769603Z",
          "iopub.execute_input": "2024-07-03T14:20:32.769984Z",
          "iopub.status.idle": "2024-07-03T14:20:33.926622Z",
          "shell.execute_reply.started": "2024-07-03T14:20:32.769949Z",
          "shell.execute_reply": "2024-07-03T14:20:33.925851Z"
        },
        "trusted": true,
        "id": "uCQpJi08_TPS"
      },
      "execution_count": 6,
      "outputs": []
    },
    {
      "cell_type": "code",
      "source": [],
      "metadata": {
        "id": "PuDbk6ua_TPT"
      },
      "execution_count": null,
      "outputs": []
    },
    {
      "cell_type": "code",
      "source": [
        "from transformers import AutoTokenizer\n",
        "tokenizer = AutoTokenizer.from_pretrained(\"microsoft/deberta-v3-base\")"
      ],
      "metadata": {
        "execution": {
          "iopub.status.busy": "2024-07-03T14:20:34.327656Z",
          "iopub.execute_input": "2024-07-03T14:20:34.328312Z",
          "iopub.status.idle": "2024-07-03T14:20:42.384804Z",
          "shell.execute_reply.started": "2024-07-03T14:20:34.328274Z",
          "shell.execute_reply": "2024-07-03T14:20:42.383800Z"
        },
        "trusted": true,
        "colab": {
          "base_uri": "https://localhost:8080/",
          "height": 312,
          "referenced_widgets": [
            "2cbee6bb7c484c0fa0ca4518b438f5fb",
            "7d7b754b0cdb47239b8fbd921cc8e616",
            "624c21c3f5fa4135a48b5dd7edd5147b",
            "c6f7ecdb1adf46698e3e6a6106f69b7b",
            "dc472a6dda2d41e583eca4e7efcb66e2",
            "611ea5d9fcad46948aec3bda6d598bd4",
            "317a12f063e34a67ad33dd8a7197e2b3",
            "e65f610aaaa942328f34e5920aa217e1",
            "41b69cac0b374cab81807123b3c6bd67",
            "891cdef1401f41edb7f15cce4d9db172",
            "29235c5b85f64a3dac8359523858d437",
            "e06553323c3f494da9c7ff9c0ec1faff",
            "9d9f43cff946445b83f93cc2270e5fb6",
            "620206e0f3e340e4b952666d7d435eb6",
            "7c83ac130ec849b28f1fb83abd980d23",
            "e1645615b9424e89ba88047706d8d8c2",
            "9fd66f3a95df421f824e45c04176cf7a",
            "dbc577efe2524323b1dc6a87c587dc07",
            "00217d833d8b4b1893b0537f89e96999",
            "831a6181e9fb4abf91ea77a16a448f13",
            "e786737b86784e20af80e073a84f802a",
            "d8db77a2d134447c80811f4b0b158582",
            "2e143b3790ea429db122e21364edb9dc",
            "6feb270aa2dd45dda50952d21fdec244",
            "53b5d5ab7eec439cafd039911aa9daeb",
            "1dee5031c35d4922a6852956ed40f3d7",
            "3087510549524e2ead3e9fe2321cb399",
            "aa70ec2c1dd049598066e2ce8d7283d1",
            "2b9feb3167ef4f9d958ee7e375599d14",
            "453918b0faa54c699515a16d68d2fbd0",
            "ca6ef87072f34ffbbf3a52bba28cd786",
            "ea8b59867e434ba5af49d28f0f21f3f2",
            "89692ce0fdd047e88a371097ccab6cfd"
          ]
        },
        "id": "R7qgQHyX_TPT",
        "outputId": "85a4a512-7b68-4148-ee07-e147d42789a9"
      },
      "execution_count": 7,
      "outputs": [
        {
          "output_type": "stream",
          "name": "stderr",
          "text": [
            "/usr/local/lib/python3.10/dist-packages/huggingface_hub/utils/_token.py:89: UserWarning: \n",
            "The secret `HF_TOKEN` does not exist in your Colab secrets.\n",
            "To authenticate with the Hugging Face Hub, create a token in your settings tab (https://huggingface.co/settings/tokens), set it as secret in your Google Colab and restart your session.\n",
            "You will be able to reuse this secret in all of your notebooks.\n",
            "Please note that authentication is recommended but still optional to access public models or datasets.\n",
            "  warnings.warn(\n"
          ]
        },
        {
          "output_type": "display_data",
          "data": {
            "text/plain": [
              "tokenizer_config.json:   0%|          | 0.00/52.0 [00:00<?, ?B/s]"
            ],
            "application/vnd.jupyter.widget-view+json": {
              "version_major": 2,
              "version_minor": 0,
              "model_id": "2cbee6bb7c484c0fa0ca4518b438f5fb"
            }
          },
          "metadata": {}
        },
        {
          "output_type": "stream",
          "name": "stderr",
          "text": [
            "/usr/local/lib/python3.10/dist-packages/huggingface_hub/file_download.py:1132: FutureWarning: `resume_download` is deprecated and will be removed in version 1.0.0. Downloads always resume when possible. If you want to force a new download, use `force_download=True`.\n",
            "  warnings.warn(\n"
          ]
        },
        {
          "output_type": "display_data",
          "data": {
            "text/plain": [
              "config.json:   0%|          | 0.00/579 [00:00<?, ?B/s]"
            ],
            "application/vnd.jupyter.widget-view+json": {
              "version_major": 2,
              "version_minor": 0,
              "model_id": "e06553323c3f494da9c7ff9c0ec1faff"
            }
          },
          "metadata": {}
        },
        {
          "output_type": "display_data",
          "data": {
            "text/plain": [
              "spm.model:   0%|          | 0.00/2.46M [00:00<?, ?B/s]"
            ],
            "application/vnd.jupyter.widget-view+json": {
              "version_major": 2,
              "version_minor": 0,
              "model_id": "2e143b3790ea429db122e21364edb9dc"
            }
          },
          "metadata": {}
        },
        {
          "output_type": "stream",
          "name": "stderr",
          "text": [
            "/usr/local/lib/python3.10/dist-packages/transformers/convert_slow_tokenizer.py:560: UserWarning: The sentencepiece tokenizer that you are converting to a fast tokenizer uses the byte fallback option which is not implemented in the fast tokenizers. In practice this means that the fast version of the tokenizer can produce unknown tokens whereas the sentencepiece version would have converted these unknown tokens into a sequence of byte tokens matching the original piece of text.\n",
            "  warnings.warn(\n"
          ]
        }
      ]
    },
    {
      "cell_type": "code",
      "source": [
        "def prepare_data(row):\n",
        "    # Replace NaN values with empty strings and concatenate prompt with each response\n",
        "    chat_a = \" [SEP] \".join([f\"prompt: {p if pd.notna(p) else ''} [RESPONSE_A] {r if pd.notna(r) else ''}\" for p, r in zip(row['prompt'], row['response_a'])])\n",
        "    chat_b = \" [SEP] \".join([f\"prompt: {p if pd.notna(p) else ''} [RESPONSE_B] {r if pd.notna(r) else ''}\" for p, r in zip(row['prompt'], row['response_b'])])\n",
        "\n",
        "    tokens_a = tokenizer(chat_a, max_length=512, truncation=True, padding=\"max_length\", return_tensors='pt')\n",
        "    tokens_b = tokenizer(chat_b, max_length=512, truncation=True, padding=\"max_length\", return_tensors='pt')\n",
        "    return tokens_a, tokens_b"
      ],
      "metadata": {
        "execution": {
          "iopub.status.busy": "2024-07-03T14:20:42.386558Z",
          "iopub.execute_input": "2024-07-03T14:20:42.387051Z",
          "iopub.status.idle": "2024-07-03T14:20:42.393682Z",
          "shell.execute_reply.started": "2024-07-03T14:20:42.387022Z",
          "shell.execute_reply": "2024-07-03T14:20:42.392848Z"
        },
        "trusted": true,
        "id": "Swdcm9Kc_TPU"
      },
      "execution_count": 8,
      "outputs": []
    },
    {
      "cell_type": "code",
      "source": [
        "def remove_surrogates(text_list):\n",
        "    cleaned_list = []\n",
        "    for text in text_list:\n",
        "        if text is None:\n",
        "            cleaned_list.append(\"\")\n",
        "        else:\n",
        "            try:\n",
        "                # handle surrogates by encoding to 'utf-16' and decoding back to 'utf-8'\n",
        "                text = text.encode('utf-16', 'surrogatepass').decode('utf-16')\n",
        "                text = text.encode('utf-8', 'strict').decode('utf-8')\n",
        "            except UnicodeEncodeError:\n",
        "                # If error persists, remove characters that cannot be encoded in UTF-8\n",
        "                text = text.encode('utf-8', 'ignore').decode('utf-8')\n",
        "            cleaned_list.append(text)\n",
        "    return cleaned_list"
      ],
      "metadata": {
        "execution": {
          "iopub.status.busy": "2024-07-03T14:20:42.395010Z",
          "iopub.execute_input": "2024-07-03T14:20:42.395286Z",
          "iopub.status.idle": "2024-07-03T14:20:42.411093Z",
          "shell.execute_reply.started": "2024-07-03T14:20:42.395262Z",
          "shell.execute_reply": "2024-07-03T14:20:42.410194Z"
        },
        "trusted": true,
        "id": "pzc8lN8F_TPU"
      },
      "execution_count": 9,
      "outputs": []
    },
    {
      "cell_type": "code",
      "source": [
        "train_df['prompt'] = train_df['prompt'].apply(remove_surrogates)\n",
        "train_df['response_a'] = train_df['response_a'].apply(remove_surrogates)\n",
        "train_df['response_b'] = train_df['response_b'].apply(remove_surrogates)"
      ],
      "metadata": {
        "execution": {
          "iopub.status.busy": "2024-07-03T14:20:44.339728Z",
          "iopub.execute_input": "2024-07-03T14:20:44.340111Z",
          "iopub.status.idle": "2024-07-03T14:20:45.252495Z",
          "shell.execute_reply.started": "2024-07-03T14:20:44.340080Z",
          "shell.execute_reply": "2024-07-03T14:20:45.251437Z"
        },
        "trusted": true,
        "id": "FcN7jEpC_TPV"
      },
      "execution_count": 10,
      "outputs": []
    },
    {
      "cell_type": "code",
      "source": [
        "test_df['prompt'] = test_df['prompt'].apply(remove_surrogates)\n",
        "test_df['response_a'] = test_df['response_a'].apply(remove_surrogates)\n",
        "test_df['response_b'] = test_df['response_b'].apply(remove_surrogates)"
      ],
      "metadata": {
        "execution": {
          "iopub.status.busy": "2024-07-03T14:20:45.258185Z",
          "iopub.execute_input": "2024-07-03T14:20:45.258953Z",
          "iopub.status.idle": "2024-07-03T14:20:45.264605Z",
          "shell.execute_reply.started": "2024-07-03T14:20:45.258923Z",
          "shell.execute_reply": "2024-07-03T14:20:45.263483Z"
        },
        "trusted": true,
        "id": "eKYwIWzp_TPV"
      },
      "execution_count": 11,
      "outputs": []
    },
    {
      "cell_type": "code",
      "source": [],
      "metadata": {
        "execution": {
          "iopub.status.busy": "2024-07-03T14:21:34.851119Z",
          "iopub.execute_input": "2024-07-03T14:21:34.851482Z",
          "iopub.status.idle": "2024-07-03T14:21:34.856310Z",
          "shell.execute_reply.started": "2024-07-03T14:21:34.851450Z",
          "shell.execute_reply": "2024-07-03T14:21:34.855244Z"
        },
        "trusted": true,
        "id": "Y9Ew5Jor_TPV"
      },
      "execution_count": 11,
      "outputs": []
    },
    {
      "cell_type": "code",
      "source": [
        "train_df[['tokens_a', 'tokens_b']] = train_df.apply(lambda row: prepare_data(row), axis=1, result_type='expand')"
      ],
      "metadata": {
        "execution": {
          "iopub.status.busy": "2024-07-03T14:21:35.136831Z",
          "iopub.execute_input": "2024-07-03T14:21:35.137657Z",
          "iopub.status.idle": "2024-07-03T14:24:32.109954Z",
          "shell.execute_reply.started": "2024-07-03T14:21:35.137624Z",
          "shell.execute_reply": "2024-07-03T14:24:32.109160Z"
        },
        "trusted": true,
        "id": "pvPVa-3R_TPV"
      },
      "execution_count": 12,
      "outputs": []
    },
    {
      "cell_type": "code",
      "source": [
        "test_df[['tokens_a', 'tokens_b']] = test_df.apply(lambda row: prepare_data(row), axis=1, result_type='expand')"
      ],
      "metadata": {
        "execution": {
          "iopub.status.busy": "2024-07-03T14:24:32.111540Z",
          "iopub.execute_input": "2024-07-03T14:24:32.111845Z",
          "iopub.status.idle": "2024-07-03T14:27:14.780400Z",
          "shell.execute_reply.started": "2024-07-03T14:24:32.111818Z",
          "shell.execute_reply": "2024-07-03T14:27:14.779592Z"
        },
        "trusted": true,
        "id": "cFVYOFcZ_TPV"
      },
      "execution_count": 14,
      "outputs": []
    },
    {
      "cell_type": "code",
      "source": [
        "def label(row):\n",
        "    if row['winner_model_a'] == 1:\n",
        "        return 0\n",
        "    elif row['winner_model_b'] == 1:\n",
        "        return 1\n",
        "    elif row['winner_tie'] == 1:\n",
        "        return 2\n",
        "\n",
        "train_df['label'] = train_df.apply(label, axis=1)"
      ],
      "metadata": {
        "execution": {
          "iopub.status.busy": "2024-07-03T14:27:14.782009Z",
          "iopub.execute_input": "2024-07-03T14:27:14.782303Z",
          "iopub.status.idle": "2024-07-03T14:27:15.090856Z",
          "shell.execute_reply.started": "2024-07-03T14:27:14.782270Z",
          "shell.execute_reply": "2024-07-03T14:27:15.089847Z"
        },
        "trusted": true,
        "id": "GV7p3oW8_TPW"
      },
      "execution_count": 15,
      "outputs": []
    },
    {
      "cell_type": "markdown",
      "source": [
        "# Modelling"
      ],
      "metadata": {
        "id": "nF8TzU98qHWE"
      }
    },
    {
      "cell_type": "markdown",
      "source": [
        "Create custom dataset"
      ],
      "metadata": {
        "id": "2C-1iDluqI3E"
      }
    },
    {
      "cell_type": "code",
      "source": [
        "from torch.utils.data import Dataset, DataLoader\n",
        "import torch\n",
        "\n",
        "class TextComparisonDataset(Dataset):\n",
        "    def __init__(self, tokens_a, tokens_b, labels):\n",
        "        self.tokens_a = tokens_a\n",
        "        self.tokens_b = tokens_b\n",
        "        self.labels = labels\n",
        "\n",
        "    def __len__(self):\n",
        "        return len(self.labels)\n",
        "\n",
        "    def __getitem__(self, idx):\n",
        "        return {\n",
        "            'input_ids_a': self.tokens_a[idx]['input_ids'].squeeze(),\n",
        "            'attention_mask_a': self.tokens_a[idx]['attention_mask'].squeeze(),\n",
        "            'input_ids_b': self.tokens_b[idx]['input_ids'].squeeze(),\n",
        "            'attention_mask_b': self.tokens_b[idx]['attention_mask'].squeeze(),\n",
        "            'labels': torch.tensor(self.labels[idx], dtype=torch.long)\n",
        "        }"
      ],
      "metadata": {
        "execution": {
          "iopub.status.busy": "2024-07-03T14:27:15.092931Z",
          "iopub.execute_input": "2024-07-03T14:27:15.093224Z",
          "iopub.status.idle": "2024-07-03T14:27:15.100437Z",
          "shell.execute_reply.started": "2024-07-03T14:27:15.093198Z",
          "shell.execute_reply": "2024-07-03T14:27:15.099589Z"
        },
        "trusted": true,
        "id": "AY42_JJf_TPW"
      },
      "execution_count": 16,
      "outputs": []
    },
    {
      "cell_type": "markdown",
      "source": [
        "Initial split: 70% for training, 30% for combined validation + testing"
      ],
      "metadata": {
        "id": "_HVXMfBqqL7h"
      }
    },
    {
      "cell_type": "code",
      "source": [
        "\n",
        "X_train, X_val_test, y_train, y_val_test = train_test_split(\n",
        "    list(zip(train_df['tokens_a'], train_df['tokens_b'])),\n",
        "    train_df['label'],\n",
        "    test_size=0.30,  # 30% for validation + testing\n",
        "    random_state=42\n",
        ")\n",
        "\n",
        "# Second split: Divide the 30% reserved above into 50% validation and 50% testing\n",
        "X_val, X_test, y_val, y_test = train_test_split(\n",
        "    X_val_test,\n",
        "    y_val_test,\n",
        "    test_size=0.50,  # 50% of the remaining data\n",
        "    random_state=42\n",
        ")\n",
        "\n",
        "tokens_a_train, tokens_b_train = zip(*X_train)\n",
        "tokens_a_val, tokens_b_val = zip(*X_val)\n",
        "tokens_a_test, tokens_b_test = zip(*X_test)\n",
        "\n",
        "y_train = y_train.reset_index(drop=True)\n",
        "y_val = y_val.reset_index(drop=True)\n",
        "y_test = y_test.reset_index(drop=True)\n",
        "\n",
        "\n",
        "train_dataset = TextComparisonDataset(tokens_a_train, tokens_b_train, y_train)\n",
        "val_dataset = TextComparisonDataset(tokens_a_val, tokens_b_val, y_val)\n",
        "test_dataset = TextComparisonDataset(tokens_a_test, tokens_b_test, y_test)"
      ],
      "metadata": {
        "execution": {
          "iopub.status.busy": "2024-07-03T14:27:15.101432Z",
          "iopub.execute_input": "2024-07-03T14:27:15.101690Z",
          "iopub.status.idle": "2024-07-03T14:27:15.141421Z",
          "shell.execute_reply.started": "2024-07-03T14:27:15.101667Z",
          "shell.execute_reply": "2024-07-03T14:27:15.140590Z"
        },
        "trusted": true,
        "id": "udwsI6EO_TPW"
      },
      "execution_count": 17,
      "outputs": []
    },
    {
      "cell_type": "code",
      "source": [],
      "metadata": {
        "trusted": true,
        "id": "fiL0xdKF_TPW"
      },
      "execution_count": null,
      "outputs": []
    },
    {
      "cell_type": "markdown",
      "source": [
        "Create model"
      ],
      "metadata": {
        "id": "RW14yM_ZqVQ0"
      }
    },
    {
      "cell_type": "code",
      "source": [
        "from torch import nn\n",
        "from transformers import AutoTokenizer, AutoModelForSequenceClassification\n",
        "\n",
        "class ComparisonModel(nn.Module):\n",
        "    def __init__(self):\n",
        "        super().__init__()\n",
        "\n",
        "        self.model = AutoModelForSequenceClassification.from_pretrained(\"microsoft/deberta-v3-base\",  num_labels=3, return_dict=True)\n",
        "        self.comparator = nn.Linear(6, 3)\n",
        "\n",
        "    def forward(self, input_ids_a, attention_mask_a, input_ids_b, attention_mask_b):\n",
        "\n",
        "        outputs_a = self.model(input_ids=input_ids_a, attention_mask=attention_mask_a)\n",
        "        logits_a = outputs_a.logits\n",
        "\n",
        "        outputs_b = self.model(input_ids=input_ids_b, attention_mask=attention_mask_b)\n",
        "        logits_b = outputs_b.logits\n",
        "\n",
        "        combined_logits = torch.cat((logits_a, logits_b), dim=1)\n",
        "\n",
        "        final_logits = self.comparator(combined_logits)\n",
        "\n",
        "        return final_logits"
      ],
      "metadata": {
        "execution": {
          "iopub.status.busy": "2024-07-03T14:27:15.142647Z",
          "iopub.execute_input": "2024-07-03T14:27:15.142943Z",
          "iopub.status.idle": "2024-07-03T14:27:15.150403Z",
          "shell.execute_reply.started": "2024-07-03T14:27:15.142917Z",
          "shell.execute_reply": "2024-07-03T14:27:15.149549Z"
        },
        "trusted": true,
        "id": "X-6VxNNB_TPW"
      },
      "execution_count": 36,
      "outputs": []
    },
    {
      "cell_type": "code",
      "source": [
        "from torch.optim import Adam\n",
        "from torch.utils.data import DataLoader\n",
        "\n",
        "train_loader = DataLoader(train_dataset, batch_size=8, shuffle=True)\n",
        "val_loader = DataLoader(val_dataset, batch_size=8, shuffle=False)\n",
        "test_loader = DataLoader(test_dataset, batch_size=1, shuffle=False)"
      ],
      "metadata": {
        "execution": {
          "iopub.status.busy": "2024-07-03T14:27:15.151513Z",
          "iopub.execute_input": "2024-07-03T14:27:15.151782Z",
          "iopub.status.idle": "2024-07-03T14:27:15.165399Z",
          "shell.execute_reply.started": "2024-07-03T14:27:15.151749Z",
          "shell.execute_reply": "2024-07-03T14:27:15.164546Z"
        },
        "trusted": true,
        "id": "TdHy8gZN_TPW"
      },
      "execution_count": 50,
      "outputs": []
    },
    {
      "cell_type": "code",
      "source": [],
      "metadata": {
        "execution": {
          "iopub.status.busy": "2024-07-02T20:15:06.642041Z",
          "iopub.execute_input": "2024-07-02T20:15:06.642711Z",
          "iopub.status.idle": "2024-07-02T20:15:06.648586Z",
          "shell.execute_reply.started": "2024-07-02T20:15:06.642679Z",
          "shell.execute_reply": "2024-07-02T20:15:06.647652Z"
        },
        "trusted": true,
        "id": "tNGiOgsz_TPX",
        "outputId": "18c99676-490f-4f12-a32c-8844eedc333b"
      },
      "execution_count": null,
      "outputs": [
        {
          "execution_count": 27,
          "output_type": "execute_result",
          "data": {
            "text/plain": "2000"
          },
          "metadata": {}
        }
      ]
    },
    {
      "cell_type": "code",
      "source": [
        "model = ComparisonModel()\n",
        "optimizer = Adam(model.parameters(), lr=2e-5)\n",
        "\n",
        "device = torch.device(\"cuda\" if torch.cuda.is_available() else \"cpu\")\n",
        "\n",
        "model.to(device)\n",
        "\n",
        "print('x')"
      ],
      "metadata": {
        "execution": {
          "iopub.status.busy": "2024-07-03T14:27:15.166375Z",
          "iopub.execute_input": "2024-07-03T14:27:15.166679Z",
          "iopub.status.idle": "2024-07-03T14:27:18.654642Z",
          "shell.execute_reply.started": "2024-07-03T14:27:15.166653Z",
          "shell.execute_reply": "2024-07-03T14:27:18.653640Z"
        },
        "trusted": true,
        "colab": {
          "base_uri": "https://localhost:8080/"
        },
        "id": "nZqQGhb9_TPX",
        "outputId": "1c0784b6-3a0d-40b5-df8b-8873b8389a2f"
      },
      "execution_count": 51,
      "outputs": [
        {
          "output_type": "stream",
          "name": "stderr",
          "text": [
            "Some weights of DebertaV2ForSequenceClassification were not initialized from the model checkpoint at microsoft/deberta-v3-base and are newly initialized: ['classifier.bias', 'classifier.weight', 'pooler.dense.bias', 'pooler.dense.weight']\n",
            "You should probably TRAIN this model on a down-stream task to be able to use it for predictions and inference.\n"
          ]
        },
        {
          "output_type": "stream",
          "name": "stdout",
          "text": [
            "x\n"
          ]
        }
      ]
    },
    {
      "cell_type": "code",
      "source": [
        "loss_fn = nn.CrossEntropyLoss()\n",
        "num_epochs = 1\n",
        "report_every = 50"
      ],
      "metadata": {
        "execution": {
          "iopub.status.busy": "2024-07-03T14:27:18.655881Z",
          "iopub.execute_input": "2024-07-03T14:27:18.656178Z",
          "iopub.status.idle": "2024-07-03T14:27:18.660821Z",
          "shell.execute_reply.started": "2024-07-03T14:27:18.656152Z",
          "shell.execute_reply": "2024-07-03T14:27:18.659862Z"
        },
        "trusted": true,
        "id": "91e1EYuu_TPX"
      },
      "execution_count": 52,
      "outputs": []
    },
    {
      "cell_type": "code",
      "source": [
        "import logging\n",
        "\n",
        "logging.basicConfig(filename='training_log.log', level=logging.INFO, format='%(asctime)s:%(levelname)s:%(message)s')"
      ],
      "metadata": {
        "execution": {
          "iopub.status.busy": "2024-07-03T14:27:18.664011Z",
          "iopub.execute_input": "2024-07-03T14:27:18.664435Z",
          "iopub.status.idle": "2024-07-03T14:27:18.671634Z",
          "shell.execute_reply.started": "2024-07-03T14:27:18.664403Z",
          "shell.execute_reply": "2024-07-03T14:27:18.670841Z"
        },
        "trusted": true,
        "id": "3KU8Ww7D_TPX"
      },
      "execution_count": 53,
      "outputs": []
    },
    {
      "cell_type": "code",
      "source": [
        "len(train_loader)"
      ],
      "metadata": {
        "colab": {
          "base_uri": "https://localhost:8080/"
        },
        "id": "FCIcaQdFIwRH",
        "outputId": "aa2c0b0f-35dd-4e00-b597-48b149c9c9bc"
      },
      "execution_count": 47,
      "outputs": [
        {
          "output_type": "execute_result",
          "data": {
            "text/plain": [
              "10059"
            ]
          },
          "metadata": {},
          "execution_count": 47
        }
      ]
    },
    {
      "cell_type": "code",
      "source": [
        "len(val_loader)"
      ],
      "metadata": {
        "colab": {
          "base_uri": "https://localhost:8080/"
        },
        "id": "TtbtzvqvJMXN",
        "outputId": "8c3d62ef-8127-419f-de3b-3061243895d0"
      },
      "execution_count": 49,
      "outputs": [
        {
          "output_type": "execute_result",
          "data": {
            "text/plain": [
              "2156"
            ]
          },
          "metadata": {},
          "execution_count": 49
        }
      ]
    },
    {
      "cell_type": "markdown",
      "source": [
        "Training using Pytorch"
      ],
      "metadata": {
        "id": "Il_7W0jfqYWM"
      }
    },
    {
      "cell_type": "code",
      "source": [
        "for epoch in range(num_epochs):\n",
        "    print(f\"Epoch {epoch+1}/{num_epochs}\")\n",
        "    logging.info(f\"Epoch {epoch+1}/{num_epochs} started.\")\n",
        "\n",
        "    # Training phase\n",
        "    model.train()\n",
        "    train_loss = 0\n",
        "    for i, batch in enumerate(train_loader):\n",
        "        optimizer.zero_grad()\n",
        "\n",
        "        input_ids_a = batch['input_ids_a'].to(device)\n",
        "        attention_mask_a = batch['attention_mask_a'].to(device)\n",
        "        input_ids_b = batch['input_ids_b'].to(device)\n",
        "        attention_mask_b = batch['attention_mask_b'].to(device)\n",
        "        labels = batch['labels'].to(device)\n",
        "\n",
        "        outputs = model(input_ids_a, attention_mask_a, input_ids_b, attention_mask_b)\n",
        "        loss = loss_fn(outputs, labels)\n",
        "        train_loss += loss.item()\n",
        "\n",
        "        loss.backward()\n",
        "        optimizer.step()\n",
        "\n",
        "        if (i + 1) % report_every == 0:\n",
        "            print(f'Epoch {epoch+1}, Batch {i+1}, Intermediate Training Loss: {loss.item():.4f}')\n",
        "            logging.info(f'Epoch {epoch+1}, Batch {i+1}, Intermediate Training Loss: {loss.item():.4f}')\n",
        "\n",
        "    average_train_loss = train_loss / len(train_loader)\n",
        "    print(f\"End of Epoch Training Loss: {average_train_loss:.4f}\")\n",
        "    logging.info(f\"End of Epoch {epoch+1} Training Loss: {average_train_loss:.4f}\")\n",
        "\n",
        "    # Validation phase\n",
        "    model.eval()\n",
        "    val_loss = 0\n",
        "    with torch.no_grad():\n",
        "        for i, batch in enumerate(val_loader):\n",
        "            input_ids_a = batch['input_ids_a'].to(device)\n",
        "            attention_mask_a = batch['attention_mask_a'].to(device)\n",
        "            input_ids_b = batch['input_ids_b'].to(device)\n",
        "            attention_mask_b = batch['attention_mask_b'].to(device)\n",
        "            labels = batch['labels'].to(device)\n",
        "\n",
        "            outputs = model(input_ids_a, attention_mask_a, input_ids_b, attention_mask_b)\n",
        "            loss = loss_fn(outputs, labels)\n",
        "            val_loss += loss.item()\n",
        "\n",
        "            if (i + 1) % report_every == 0:\n",
        "                print(f'Epoch {epoch+1}, Batch {i+1}, Intermediate Validation Loss: {loss.item():.4f}')\n",
        "                logging.info(f'Epoch {epoch+1}, Batch {i+1}, Intermediate Validation Loss: {loss.item():.4f}')\n",
        "\n",
        "    average_val_loss = val_loss / len(val_loader)\n",
        "    print(f\"End of Epoch Validation Loss: {average_val_loss:.4f}\")\n",
        "    logging.info(f\"End of Epoch {epoch+1} Validation Loss: {average_val_loss:.4f}\")"
      ],
      "metadata": {
        "execution": {
          "iopub.status.busy": "2024-07-03T14:27:18.672585Z",
          "iopub.execute_input": "2024-07-03T14:27:18.672883Z",
          "iopub.status.idle": "2024-07-03T16:13:26.048874Z",
          "shell.execute_reply.started": "2024-07-03T14:27:18.672858Z",
          "shell.execute_reply": "2024-07-03T16:13:26.047863Z"
        },
        "trusted": true,
        "colab": {
          "base_uri": "https://localhost:8080/"
        },
        "id": "1TJCxeL3_TPX",
        "outputId": "2dd5f7b5-bba1-448d-9d1b-d7add2e9da1a"
      },
      "execution_count": 56,
      "outputs": [
        {
          "output_type": "stream",
          "name": "stdout",
          "text": [
            "Epoch 1/1\n",
            "Epoch 1, Batch 50, Intermediate Training Loss: 1.0646\n",
            "Epoch 1, Batch 100, Intermediate Training Loss: 1.1026\n",
            "Epoch 1, Batch 150, Intermediate Training Loss: 1.0943\n",
            "Epoch 1, Batch 200, Intermediate Training Loss: 1.0945\n",
            "Epoch 1, Batch 250, Intermediate Training Loss: 1.1220\n",
            "Epoch 1, Batch 300, Intermediate Training Loss: 1.1109\n",
            "Epoch 1, Batch 350, Intermediate Training Loss: 1.0536\n",
            "Epoch 1, Batch 400, Intermediate Training Loss: 1.1127\n",
            "Epoch 1, Batch 450, Intermediate Training Loss: 1.1251\n",
            "Epoch 1, Batch 500, Intermediate Training Loss: 1.1114\n",
            "Epoch 1, Batch 550, Intermediate Training Loss: 1.0714\n",
            "Epoch 1, Batch 600, Intermediate Training Loss: 1.1491\n",
            "Epoch 1, Batch 650, Intermediate Training Loss: 1.0470\n",
            "Epoch 1, Batch 700, Intermediate Training Loss: 1.0297\n",
            "Epoch 1, Batch 750, Intermediate Training Loss: 1.1881\n",
            "Epoch 1, Batch 800, Intermediate Training Loss: 1.0660\n",
            "Epoch 1, Batch 850, Intermediate Training Loss: 1.1198\n",
            "Epoch 1, Batch 900, Intermediate Training Loss: 1.1286\n",
            "Epoch 1, Batch 950, Intermediate Training Loss: 1.0839\n",
            "Epoch 1, Batch 1000, Intermediate Training Loss: 1.0881\n",
            "Epoch 1, Batch 1050, Intermediate Training Loss: 1.0617\n",
            "Epoch 1, Batch 1100, Intermediate Training Loss: 1.0725\n",
            "Epoch 1, Batch 1150, Intermediate Training Loss: 1.0681\n",
            "Epoch 1, Batch 1200, Intermediate Training Loss: 1.1304\n",
            "Epoch 1, Batch 1250, Intermediate Training Loss: 1.1587\n",
            "Epoch 1, Batch 1300, Intermediate Training Loss: 1.0970\n",
            "Epoch 1, Batch 1350, Intermediate Training Loss: 1.0461\n",
            "Epoch 1, Batch 1400, Intermediate Training Loss: 1.1180\n",
            "Epoch 1, Batch 1450, Intermediate Training Loss: 1.0632\n",
            "Epoch 1, Batch 1500, Intermediate Training Loss: 1.0536\n",
            "Epoch 1, Batch 1550, Intermediate Training Loss: 1.0962\n",
            "Epoch 1, Batch 1600, Intermediate Training Loss: 1.0592\n",
            "Epoch 1, Batch 1650, Intermediate Training Loss: 1.0928\n",
            "Epoch 1, Batch 1700, Intermediate Training Loss: 1.0579\n",
            "Epoch 1, Batch 1750, Intermediate Training Loss: 1.1384\n",
            "Epoch 1, Batch 1800, Intermediate Training Loss: 1.0777\n",
            "Epoch 1, Batch 1850, Intermediate Training Loss: 1.1244\n",
            "Epoch 1, Batch 1900, Intermediate Training Loss: 1.0870\n",
            "Epoch 1, Batch 1950, Intermediate Training Loss: 1.0704\n",
            "Epoch 1, Batch 2000, Intermediate Training Loss: 1.1334\n",
            "Epoch 1, Batch 2050, Intermediate Training Loss: 1.0768\n",
            "Epoch 1, Batch 2100, Intermediate Training Loss: 1.0966\n",
            "Epoch 1, Batch 2150, Intermediate Training Loss: 1.0982\n",
            "Epoch 1, Batch 2200, Intermediate Training Loss: 1.1456\n",
            "Epoch 1, Batch 2250, Intermediate Training Loss: 1.1320\n",
            "Epoch 1, Batch 2300, Intermediate Training Loss: 1.0786\n",
            "Epoch 1, Batch 2350, Intermediate Training Loss: 1.0920\n",
            "Epoch 1, Batch 2400, Intermediate Training Loss: 1.0885\n",
            "Epoch 1, Batch 2450, Intermediate Training Loss: 1.0700\n",
            "Epoch 1, Batch 2500, Intermediate Training Loss: 1.0905\n",
            "Epoch 1, Batch 2550, Intermediate Training Loss: 1.0897\n",
            "Epoch 1, Batch 2600, Intermediate Training Loss: 1.1168\n",
            "Epoch 1, Batch 2650, Intermediate Training Loss: 1.1039\n",
            "Epoch 1, Batch 2700, Intermediate Training Loss: 1.0946\n",
            "Epoch 1, Batch 2750, Intermediate Training Loss: 1.0869\n",
            "Epoch 1, Batch 2800, Intermediate Training Loss: 1.0729\n",
            "Epoch 1, Batch 2850, Intermediate Training Loss: 1.1103\n",
            "Epoch 1, Batch 2900, Intermediate Training Loss: 1.1567\n",
            "Epoch 1, Batch 2950, Intermediate Training Loss: 1.1477\n",
            "Epoch 1, Batch 3000, Intermediate Training Loss: 1.1103\n",
            "Epoch 1, Batch 3050, Intermediate Training Loss: 1.1130\n",
            "Epoch 1, Batch 3100, Intermediate Training Loss: 1.0900\n",
            "Epoch 1, Batch 3150, Intermediate Training Loss: 1.0944\n",
            "Epoch 1, Batch 3200, Intermediate Training Loss: 1.1028\n",
            "Epoch 1, Batch 3250, Intermediate Training Loss: 1.0989\n",
            "Epoch 1, Batch 3300, Intermediate Training Loss: 1.1171\n",
            "Epoch 1, Batch 3350, Intermediate Training Loss: 1.1066\n",
            "Epoch 1, Batch 3400, Intermediate Training Loss: 1.0730\n",
            "Epoch 1, Batch 3450, Intermediate Training Loss: 1.1216\n",
            "Epoch 1, Batch 3500, Intermediate Training Loss: 1.1140\n",
            "Epoch 1, Batch 3550, Intermediate Training Loss: 1.0276\n",
            "Epoch 1, Batch 3600, Intermediate Training Loss: 1.1012\n",
            "Epoch 1, Batch 3650, Intermediate Training Loss: 1.0962\n",
            "Epoch 1, Batch 3700, Intermediate Training Loss: 1.0752\n",
            "Epoch 1, Batch 3750, Intermediate Training Loss: 1.1145\n",
            "Epoch 1, Batch 3800, Intermediate Training Loss: 1.0737\n",
            "Epoch 1, Batch 3850, Intermediate Training Loss: 1.1161\n",
            "Epoch 1, Batch 3900, Intermediate Training Loss: 1.0791\n",
            "Epoch 1, Batch 3950, Intermediate Training Loss: 1.0897\n",
            "Epoch 1, Batch 4000, Intermediate Training Loss: 1.0924\n",
            "Epoch 1, Batch 4050, Intermediate Training Loss: 1.0559\n",
            "Epoch 1, Batch 4100, Intermediate Training Loss: 1.1188\n",
            "Epoch 1, Batch 4150, Intermediate Training Loss: 1.0900\n",
            "Epoch 1, Batch 4200, Intermediate Training Loss: 1.1086\n",
            "Epoch 1, Batch 4250, Intermediate Training Loss: 1.1163\n",
            "Epoch 1, Batch 4300, Intermediate Training Loss: 1.1262\n",
            "Epoch 1, Batch 4350, Intermediate Training Loss: 1.1020\n",
            "Epoch 1, Batch 4400, Intermediate Training Loss: 1.1301\n",
            "Epoch 1, Batch 4450, Intermediate Training Loss: 1.1270\n",
            "Epoch 1, Batch 4500, Intermediate Training Loss: 1.1067\n",
            "Epoch 1, Batch 4550, Intermediate Training Loss: 1.1127\n",
            "Epoch 1, Batch 4600, Intermediate Training Loss: 1.0863\n",
            "Epoch 1, Batch 4650, Intermediate Training Loss: 1.1038\n",
            "Epoch 1, Batch 4700, Intermediate Training Loss: 1.1152\n",
            "Epoch 1, Batch 4750, Intermediate Training Loss: 1.1232\n",
            "Epoch 1, Batch 4800, Intermediate Training Loss: 1.0734\n",
            "Epoch 1, Batch 4850, Intermediate Training Loss: 1.0639\n",
            "Epoch 1, Batch 4900, Intermediate Training Loss: 1.1563\n",
            "Epoch 1, Batch 4950, Intermediate Training Loss: 1.0678\n",
            "Epoch 1, Batch 5000, Intermediate Training Loss: 1.0517\n",
            "End of Epoch Training Loss: 1.0975\n",
            "Epoch 1, Batch 50, Intermediate Validation Loss: 1.0807\n",
            "Epoch 1, Batch 100, Intermediate Validation Loss: 1.0807\n",
            "Epoch 1, Batch 150, Intermediate Validation Loss: 1.0901\n",
            "Epoch 1, Batch 200, Intermediate Validation Loss: 1.1109\n",
            "Epoch 1, Batch 250, Intermediate Validation Loss: 1.1005\n",
            "Epoch 1, Batch 300, Intermediate Validation Loss: 1.0697\n",
            "Epoch 1, Batch 350, Intermediate Validation Loss: 1.1109\n",
            "Epoch 1, Batch 400, Intermediate Validation Loss: 1.0707\n",
            "Epoch 1, Batch 450, Intermediate Validation Loss: 1.1208\n",
            "Epoch 1, Batch 500, Intermediate Validation Loss: 1.1010\n",
            "Epoch 1, Batch 550, Intermediate Validation Loss: 1.0796\n",
            "Epoch 1, Batch 600, Intermediate Validation Loss: 1.1010\n",
            "Epoch 1, Batch 650, Intermediate Validation Loss: 1.0702\n",
            "Epoch 1, Batch 700, Intermediate Validation Loss: 1.0707\n",
            "Epoch 1, Batch 750, Intermediate Validation Loss: 1.1620\n",
            "Epoch 1, Batch 800, Intermediate Validation Loss: 1.0801\n",
            "Epoch 1, Batch 850, Intermediate Validation Loss: 1.0603\n",
            "Epoch 1, Batch 900, Intermediate Validation Loss: 1.0906\n",
            "Epoch 1, Batch 950, Intermediate Validation Loss: 1.0906\n",
            "Epoch 1, Batch 1000, Intermediate Validation Loss: 1.0801\n",
            "Epoch 1, Batch 1050, Intermediate Validation Loss: 1.0911\n",
            "End of Epoch Validation Loss: 1.0969\n"
          ]
        }
      ]
    },
    {
      "cell_type": "code",
      "source": [
        "torch.save(model, 'kaggle/lmsys-chatbot-arena/deberta-full.pth')"
      ],
      "metadata": {
        "execution": {
          "iopub.status.busy": "2024-07-03T16:13:26.050331Z",
          "iopub.execute_input": "2024-07-03T16:13:26.050612Z",
          "iopub.status.idle": "2024-07-03T16:13:26.958134Z",
          "shell.execute_reply.started": "2024-07-03T16:13:26.050587Z",
          "shell.execute_reply": "2024-07-03T16:13:26.957370Z"
        },
        "trusted": true,
        "id": "hcRaMpBs_TPY"
      },
      "execution_count": 57,
      "outputs": []
    },
    {
      "cell_type": "code",
      "source": [],
      "metadata": {
        "trusted": true,
        "id": "BPojaYqv_TPY"
      },
      "execution_count": null,
      "outputs": []
    },
    {
      "cell_type": "code",
      "source": [
        "model.eval()\n",
        "predictions = []\n",
        "true_labels = []\n",
        "\n",
        "with torch.no_grad():\n",
        "    for batch in test_loader:\n",
        "        input_ids_a = batch['input_ids_a'].to(device)\n",
        "        attention_mask_a = batch['attention_mask_a'].to(device)\n",
        "        input_ids_b = batch['input_ids_b'].to(device)\n",
        "        attention_mask_b = batch['attention_mask_b'].to(device)\n",
        "        labels = batch['labels'].to(device)\n",
        "\n",
        "        outputs = model(input_ids_a, attention_mask_a, input_ids_b, attention_mask_b)\n",
        "        # Apply softmax to convert outputs to probabilities\n",
        "        probabilities = torch.nn.functional.softmax(outputs, dim=1)\n",
        "        predictions.append(probabilities.cpu().numpy())\n",
        "        true_labels.extend(labels.cpu().numpy())\n",
        "\n",
        "predictions = np.vstack(predictions)\n",
        "true_labels = np.array(true_labels)"
      ],
      "metadata": {
        "execution": {
          "iopub.status.busy": "2024-07-02T19:45:46.178730Z",
          "iopub.execute_input": "2024-07-02T19:45:46.179086Z",
          "iopub.status.idle": "2024-07-02T19:47:01.683330Z",
          "shell.execute_reply.started": "2024-07-02T19:45:46.179052Z",
          "shell.execute_reply": "2024-07-02T19:47:01.682376Z"
        },
        "trusted": true,
        "id": "UdeXKxc6_TPZ"
      },
      "execution_count": null,
      "outputs": []
    },
    {
      "cell_type": "code",
      "source": [
        "from sklearn.metrics import log_loss"
      ],
      "metadata": {
        "execution": {
          "iopub.status.busy": "2024-07-02T19:47:01.684584Z",
          "iopub.execute_input": "2024-07-02T19:47:01.684893Z",
          "iopub.status.idle": "2024-07-02T19:47:01.688937Z",
          "shell.execute_reply.started": "2024-07-02T19:47:01.684868Z",
          "shell.execute_reply": "2024-07-02T19:47:01.688058Z"
        },
        "trusted": true,
        "id": "LBcTPCUv_TPZ"
      },
      "execution_count": null,
      "outputs": []
    },
    {
      "cell_type": "code",
      "source": [
        "loss = log_loss(true_labels, predictions)\n",
        "print(f'Log Loss on Test Dataset: {loss}')"
      ],
      "metadata": {
        "execution": {
          "iopub.status.busy": "2024-07-02T19:47:01.689984Z",
          "iopub.execute_input": "2024-07-02T19:47:01.690238Z",
          "iopub.status.idle": "2024-07-02T19:47:01.710353Z",
          "shell.execute_reply.started": "2024-07-02T19:47:01.690215Z",
          "shell.execute_reply": "2024-07-02T19:47:01.709532Z"
        },
        "trusted": true,
        "id": "sdzLlhIC_TPZ",
        "outputId": "78b54aa7-5de7-4036-a95c-36650799e5d1"
      },
      "execution_count": null,
      "outputs": [
        {
          "name": "stdout",
          "text": "Log Loss on Test Dataset: 1.0967135634220906\n",
          "output_type": "stream"
        }
      ]
    },
    {
      "cell_type": "code",
      "source": [],
      "metadata": {
        "id": "x8MCrdtM_TPZ"
      },
      "execution_count": null,
      "outputs": []
    },
    {
      "cell_type": "code",
      "source": [
        "tokens_a = test_df['tokens_a'].tolist()\n",
        "tokens_b = test_df['tokens_b'].tolist()\n",
        "\n",
        "test_dataset = TextComparisonDataset(tokens_a, tokens_b, [0] * len(tokens_b))  # Use dummy labels\n",
        "test_loader = DataLoader(test_dataset, batch_size=1, shuffle=False)"
      ],
      "metadata": {
        "execution": {
          "iopub.status.busy": "2024-07-02T17:30:52.037783Z",
          "iopub.execute_input": "2024-07-02T17:30:52.038072Z",
          "iopub.status.idle": "2024-07-02T17:30:52.043499Z",
          "shell.execute_reply.started": "2024-07-02T17:30:52.038047Z",
          "shell.execute_reply": "2024-07-02T17:30:52.042744Z"
        },
        "trusted": true,
        "id": "AT-3AOAF_TPa"
      },
      "execution_count": null,
      "outputs": []
    },
    {
      "cell_type": "code",
      "source": [
        "predictions = []\n",
        "\n",
        "with torch.no_grad():\n",
        "    for batch in test_loader:\n",
        "        # Manually remove 'labels' since the dataset provides it as None\n",
        "        batch.pop('labels', 0)  # Safe to do, as we know it's dummy data\n",
        "\n",
        "        input_ids_a = batch['input_ids_a'].to(device)\n",
        "        attention_mask_a = batch['attention_mask_a'].to(device)\n",
        "        input_ids_b = batch['input_ids_b'].to(device)\n",
        "        attention_mask_b = batch['attention_mask_b'].to(device)\n",
        "\n",
        "        outputs = model(input_ids_a, attention_mask_a, input_ids_b, attention_mask_b)\n",
        "        probabilities = torch.nn.functional.softmax(outputs, dim=1)\n",
        "        predictions.extend(probabilities.cpu().numpy())"
      ],
      "metadata": {
        "execution": {
          "iopub.status.busy": "2024-07-02T17:30:52.044585Z",
          "iopub.execute_input": "2024-07-02T17:30:52.044874Z",
          "iopub.status.idle": "2024-07-02T17:30:52.165426Z",
          "shell.execute_reply.started": "2024-07-02T17:30:52.044852Z",
          "shell.execute_reply": "2024-07-02T17:30:52.164729Z"
        },
        "trusted": true,
        "id": "wB8Xlujr_TPa"
      },
      "execution_count": null,
      "outputs": []
    },
    {
      "cell_type": "code",
      "source": [],
      "metadata": {
        "_kg_hide-output": true,
        "execution": {
          "iopub.status.busy": "2024-07-02T19:50:51.812023Z",
          "iopub.execute_input": "2024-07-02T19:50:51.812675Z",
          "iopub.status.idle": "2024-07-02T19:50:52.669951Z",
          "shell.execute_reply.started": "2024-07-02T19:50:51.812636Z",
          "shell.execute_reply": "2024-07-02T19:50:52.668577Z"
        },
        "trusted": true,
        "id": "ZzZ-cIIT_TPa"
      },
      "execution_count": null,
      "outputs": []
    },
    {
      "cell_type": "code",
      "source": [
        "predictions_df = pd.DataFrame(predictions, columns=['winner_model_a', 'winner_model_b', 'winner_model_tie'])\n",
        "\n",
        "# Add the 'id' column from the test_df\n",
        "predictions_df['id'] = test_df['id'].values\n",
        "\n",
        "# Reorder columns to match the expected format\n",
        "predictions_df = predictions_df[['id', 'winner_model_a', 'winner_model_b', 'winner_model_tie']]"
      ],
      "metadata": {
        "execution": {
          "iopub.status.busy": "2024-07-02T17:30:52.166412Z",
          "iopub.execute_input": "2024-07-02T17:30:52.166744Z",
          "iopub.status.idle": "2024-07-02T17:30:52.175480Z",
          "shell.execute_reply.started": "2024-07-02T17:30:52.166714Z",
          "shell.execute_reply": "2024-07-02T17:30:52.174664Z"
        },
        "trusted": true,
        "id": "c4wH_43Z_TPa"
      },
      "execution_count": null,
      "outputs": []
    },
    {
      "cell_type": "code",
      "source": [
        "predictions_df.to_csv('submission.csv', index=False)"
      ],
      "metadata": {
        "execution": {
          "iopub.status.busy": "2024-07-02T17:30:52.176681Z",
          "iopub.execute_input": "2024-07-02T17:30:52.176947Z",
          "iopub.status.idle": "2024-07-02T17:30:52.189221Z",
          "shell.execute_reply.started": "2024-07-02T17:30:52.176925Z",
          "shell.execute_reply": "2024-07-02T17:30:52.188425Z"
        },
        "trusted": true,
        "id": "7Pb3Bv5r_TPa"
      },
      "execution_count": null,
      "outputs": []
    }
  ]
}